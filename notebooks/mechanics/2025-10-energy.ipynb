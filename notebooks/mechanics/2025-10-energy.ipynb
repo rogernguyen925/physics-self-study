{
 "cells": [
  {
   "cell_type": "markdown",
   "id": "babf4843",
   "metadata": {},
   "source": [
    "# John R. Taylor - Classical Mechanics\n",
    "# Chapter 4: Energy"
   ]
  },
  {
   "cell_type": "code",
   "execution_count": 1,
   "id": "1a03185f",
   "metadata": {},
   "outputs": [],
   "source": [
    "import numpy as np\n",
    "import sympy as sp\n",
    "import scipy as sc\n",
    "import matplotlib as plt"
   ]
  },
  {
   "cell_type": "code",
   "execution_count": 4,
   "id": "e1dac9db",
   "metadata": {},
   "outputs": [
    {
     "name": "stdout",
     "output_type": "stream",
     "text": [
      "Matrix([[0], [2]])\n",
      "Matrix([[1], [0]])\n"
     ]
    }
   ],
   "source": [
    "# Example 4.1: Three line integrals\n",
    "# Evaluate the work done by a two-dimensional force F = [y, 2x] from the origin to point (1, 1)\n",
    "\n",
    "y, x = sp.symbols(\"y x\", real = True)\n",
    "F = sp.Matrix([y, 2 * x])\n",
    "\n",
    "# Path a goes from the origin to Q(1, 0) to P(1, 1)\n",
    "# Work along path a is integral from O to Q F_x * dx + integral from Q to P for F_y * dy\n",
    "F_x = sp.diff(F, x)\n",
    "F_y = sp.diff(F, y)\n",
    "print(F_x)\n",
    "print(F_y)\n",
    "\n"
   ]
  }
 ],
 "metadata": {
  "kernelspec": {
   "display_name": ".venv (3.10.8)",
   "language": "python",
   "name": "python3"
  },
  "language_info": {
   "codemirror_mode": {
    "name": "ipython",
    "version": 3
   },
   "file_extension": ".py",
   "mimetype": "text/x-python",
   "name": "python",
   "nbconvert_exporter": "python",
   "pygments_lexer": "ipython3",
   "version": "3.10.8"
  }
 },
 "nbformat": 4,
 "nbformat_minor": 5
}
