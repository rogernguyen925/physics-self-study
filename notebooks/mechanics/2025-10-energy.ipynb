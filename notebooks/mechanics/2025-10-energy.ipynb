{
 "cells": [
  {
   "cell_type": "markdown",
   "id": "babf4843",
   "metadata": {},
   "source": [
    "# John R. Taylor - Classical Mechanics\n",
    "# Chapter 4: Energy"
   ]
  },
  {
   "cell_type": "code",
   "execution_count": 1,
   "id": "1a03185f",
   "metadata": {},
   "outputs": [],
   "source": [
    "import numpy as np\n",
    "import sympy as sp\n",
    "import scipy as scp\n",
    "import matplotlib as plt"
   ]
  },
  {
   "cell_type": "code",
   "execution_count": null,
   "id": "e1dac9db",
   "metadata": {},
   "outputs": [],
   "source": []
  }
 ],
 "metadata": {
  "kernelspec": {
   "display_name": ".venv (3.10.8)",
   "language": "python",
   "name": "python3"
  },
  "language_info": {
   "codemirror_mode": {
    "name": "ipython",
    "version": 3
   },
   "file_extension": ".py",
   "mimetype": "text/x-python",
   "name": "python",
   "nbconvert_exporter": "python",
   "pygments_lexer": "ipython3",
   "version": "3.10.8"
  }
 },
 "nbformat": 4,
 "nbformat_minor": 5
}
